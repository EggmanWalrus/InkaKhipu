{
 "cells": [
  {
   "cell_type": "markdown",
   "metadata": {},
   "source": [
    "# Hands-on: Deciphering Inka Khipu Signs"
   ]
  },
  {
   "cell_type": "code",
   "execution_count": 17,
   "metadata": {
    "pycharm": {
     "is_executing": false
    }
   },
   "outputs": [],
   "source": [
    "%matplotlib inline\n",
    "import numpy as np\n",
    "import pandas as pd\n",
    "import plotly.express as px\n",
    "import matplotlib.pyplot as plt"
   ]
  },
  {
   "cell_type": "code",
   "execution_count": 3,
   "outputs": [],
   "source": [
    "def plot_multi_proportion_confint_digits(actual_first_digit_frequencies, \n",
    "                                         actual_first_digit_counts, \n",
    "                                         expected_first_digit_frequencies,\n",
    "                                         label_actual,\n",
    "                                         label_expected,\n",
    "                                         title\n",
    "                                        ):\n",
    "    # Import function-specific package: return array of lower and upper confidence levels for each category\n",
    "    from statsmodels.stats.proportion import multinomial_proportions_confint\n",
    "    \n",
    "    # Plot 95% CIs as lines with caps on the top and bottom for easier interpretation\n",
    "    plt.figure(figsize=(9,5))\n",
    "\n",
    "    (_, caps, _) = plt.errorbar(x=np.arange(1, 10, 1), \n",
    "                     y=actual_first_digit_frequencies, \n",
    "                     yerr=[(top-bot)/2 for top,bot in multinomial_proportions_confint(actual_first_digit_counts)],\n",
    "                     capsize=5, fmt='none', label=label_actual+' 95% CI')\n",
    "\n",
    "    for cap in caps:\n",
    "        cap.set_markeredgewidth(1)\n",
    "\n",
    "    # Plot expected values as scatter plot points, in order to visualize where CIs include expected values\n",
    "    plt.scatter(np.arange(1,10,1), expected_first_digit_frequencies, label=label_expected, color='red')\n",
    "    \n",
    "    # Format \n",
    "    plt.xticks([1,2,3,4,5,6,7,8,9])\n",
    "    plt.xlabel('First Digits')\n",
    "    plt.ylabel('Frequency')\n",
    "    plt.title(title)\n",
    "    plt.legend();\n",
    "    \n",
    "    return\n",
    "\n",
    "expected_frequencies = pd.Series([.301, .176, .125, .097, .079, .067, .058, .051, .046], \n",
    "                                 index = [1, 2, 3, 4, 5, 6, 7, 8, 9]\n",
    "                                )"
   ],
   "metadata": {
    "collapsed": false,
    "pycharm": {
     "name": "#%%\n",
     "is_executing": false
    }
   }
  },
  {
   "cell_type": "code",
   "execution_count": 26,
   "metadata": {
    "pycharm": {
     "is_executing": false,
     "name": "#%%\n"
    }
   },
   "outputs": [
    {
     "data": {
      "text/plain": "       Unnamed: 0  Khipu Cord Fiber  Value  \\\n0               0  AB001    1   NaN      0   \n1               1  AB001    1   NaN      0   \n2               2  AB001    1   NaN      0   \n3               3  AB001    2   NaN      0   \n4               4  AB001    1   NaN      0   \n...           ...    ...  ...   ...    ...   \n56822        3146  UR294    1    CN    100   \n56823        3147  UR294    2    CN     22   \n56824        3148  UR294    3    CN     65   \n56825        3149  UR294    4    CN     52   \n56826        3150  UR294    5    CN      0   \n\n                                                  Colors Spin_Ply Attachment  \\\n0                                                    NaN        S          R   \n1                                                    NaN        S          R   \n2                                                    NaN        S          V   \n3                                                    NaN        S          R   \n4                                                    NaN        S          R   \n...                                                  ...      ...        ...   \n56822                                                 LB        Z          V   \n56823                                                 MB        Z          V   \n56824                                                 NB        Z          V   \n56825                                                  W        Z          V   \n56826  MB\\t (0-23) \\r\\nMB:W:BG\\t (23-27) \\r\\nMB\\t (27...        Z          V   \n\n      Termin  Length Anomalous  \n0          U    42.0     False  \n1          U    42.5     False  \n2          K    50.0     False  \n3          B    24.5     False  \n4          B    19.0     False  \n...      ...     ...       ...  \n56822      K    34.5     False  \n56823      B    22.5     False  \n56824      K    17.5     False  \n56825      K    23.0     False  \n56826      K    40.5     False  \n\n[56680 rows x 11 columns]",
      "text/html": "<div>\n<style scoped>\n    .dataframe tbody tr th:only-of-type {\n        vertical-align: middle;\n    }\n\n    .dataframe tbody tr th {\n        vertical-align: top;\n    }\n\n    .dataframe thead th {\n        text-align: right;\n    }\n</style>\n<table border=\"1\" class=\"dataframe\">\n  <thead>\n    <tr style=\"text-align: right;\">\n      <th></th>\n      <th>Unnamed: 0</th>\n      <th>Khipu</th>\n      <th>Cord</th>\n      <th>Fiber</th>\n      <th>Value</th>\n      <th>Colors</th>\n      <th>Spin_Ply</th>\n      <th>Attachment</th>\n      <th>Termin</th>\n      <th>Length</th>\n      <th>Anomalous</th>\n    </tr>\n  </thead>\n  <tbody>\n    <tr>\n      <th>0</th>\n      <td>0</td>\n      <td>AB001</td>\n      <td>1</td>\n      <td>NaN</td>\n      <td>0</td>\n      <td>NaN</td>\n      <td>S</td>\n      <td>R</td>\n      <td>U</td>\n      <td>42.0</td>\n      <td>False</td>\n    </tr>\n    <tr>\n      <th>1</th>\n      <td>1</td>\n      <td>AB001</td>\n      <td>1</td>\n      <td>NaN</td>\n      <td>0</td>\n      <td>NaN</td>\n      <td>S</td>\n      <td>R</td>\n      <td>U</td>\n      <td>42.5</td>\n      <td>False</td>\n    </tr>\n    <tr>\n      <th>2</th>\n      <td>2</td>\n      <td>AB001</td>\n      <td>1</td>\n      <td>NaN</td>\n      <td>0</td>\n      <td>NaN</td>\n      <td>S</td>\n      <td>V</td>\n      <td>K</td>\n      <td>50.0</td>\n      <td>False</td>\n    </tr>\n    <tr>\n      <th>3</th>\n      <td>3</td>\n      <td>AB001</td>\n      <td>2</td>\n      <td>NaN</td>\n      <td>0</td>\n      <td>NaN</td>\n      <td>S</td>\n      <td>R</td>\n      <td>B</td>\n      <td>24.5</td>\n      <td>False</td>\n    </tr>\n    <tr>\n      <th>4</th>\n      <td>4</td>\n      <td>AB001</td>\n      <td>1</td>\n      <td>NaN</td>\n      <td>0</td>\n      <td>NaN</td>\n      <td>S</td>\n      <td>R</td>\n      <td>B</td>\n      <td>19.0</td>\n      <td>False</td>\n    </tr>\n    <tr>\n      <th>...</th>\n      <td>...</td>\n      <td>...</td>\n      <td>...</td>\n      <td>...</td>\n      <td>...</td>\n      <td>...</td>\n      <td>...</td>\n      <td>...</td>\n      <td>...</td>\n      <td>...</td>\n      <td>...</td>\n    </tr>\n    <tr>\n      <th>56822</th>\n      <td>3146</td>\n      <td>UR294</td>\n      <td>1</td>\n      <td>CN</td>\n      <td>100</td>\n      <td>LB</td>\n      <td>Z</td>\n      <td>V</td>\n      <td>K</td>\n      <td>34.5</td>\n      <td>False</td>\n    </tr>\n    <tr>\n      <th>56823</th>\n      <td>3147</td>\n      <td>UR294</td>\n      <td>2</td>\n      <td>CN</td>\n      <td>22</td>\n      <td>MB</td>\n      <td>Z</td>\n      <td>V</td>\n      <td>B</td>\n      <td>22.5</td>\n      <td>False</td>\n    </tr>\n    <tr>\n      <th>56824</th>\n      <td>3148</td>\n      <td>UR294</td>\n      <td>3</td>\n      <td>CN</td>\n      <td>65</td>\n      <td>NB</td>\n      <td>Z</td>\n      <td>V</td>\n      <td>K</td>\n      <td>17.5</td>\n      <td>False</td>\n    </tr>\n    <tr>\n      <th>56825</th>\n      <td>3149</td>\n      <td>UR294</td>\n      <td>4</td>\n      <td>CN</td>\n      <td>52</td>\n      <td>W</td>\n      <td>Z</td>\n      <td>V</td>\n      <td>K</td>\n      <td>23.0</td>\n      <td>False</td>\n    </tr>\n    <tr>\n      <th>56826</th>\n      <td>3150</td>\n      <td>UR294</td>\n      <td>5</td>\n      <td>CN</td>\n      <td>0</td>\n      <td>MB\\t (0-23) \\r\\nMB:W:BG\\t (23-27) \\r\\nMB\\t (27...</td>\n      <td>Z</td>\n      <td>V</td>\n      <td>K</td>\n      <td>40.5</td>\n      <td>False</td>\n    </tr>\n  </tbody>\n</table>\n<p>56680 rows × 11 columns</p>\n</div>"
     },
     "metadata": {},
     "output_type": "execute_result",
     "execution_count": 26
    }
   ],
   "source": [
    "khipu_data = pd.read_pickle('khipu_cords.pkl')\n",
    "    \n",
    "khipu_data\n"
   ]
  }
 ],
 "metadata": {
  "kernelspec": {
   "display_name": "Python 3",
   "language": "python",
   "name": "python3"
  },
  "language_info": {
   "codemirror_mode": {
    "name": "ipython",
    "version": 3
   },
   "file_extension": ".py",
   "mimetype": "text/x-python",
   "name": "python",
   "nbconvert_exporter": "python",
   "pygments_lexer": "ipython3",
   "version": "3.7.3"
  },
  "pycharm": {
   "stem_cell": {
    "cell_type": "raw",
    "source": [],
    "metadata": {
     "collapsed": false
    }
   }
  }
 },
 "nbformat": 4,
 "nbformat_minor": 2
}