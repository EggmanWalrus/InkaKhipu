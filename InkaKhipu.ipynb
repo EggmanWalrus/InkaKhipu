{
 "cells": [
  {
   "cell_type": "markdown",
   "metadata": {},
   "source": [
    "# Hands-on: Deciphering Inka Khipu Signs\n"
   ]
  },
  {
   "cell_type": "code",
   "execution_count": 1,
   "metadata": {},
   "outputs": [],
   "source": [
    "import pandas as pd\n",
    "import matplotlib.pyplot as plt\n",
    "import numpy as np\n",
    "\n",
    "def plot_multi_proportion_confint_digits(actual_first_digit_frequencies, \n",
    "                                         actual_first_digit_counts, \n",
    "                                         expected_first_digit_frequencies,\n",
    "                                         label_actual,\n",
    "                                         label_expected,\n",
    "                                         title\n",
    "                                        ):\n",
    "    # Import function-specific package:\n",
    "    from statsmodels.stats.proportion import multinomial_proportions_confint\n",
    "    \n",
    "    # Plot 95% CIs as lines with caps on the top and bottom for easier interpretation\n",
    "    plt.figure(figsize=(9,5))\n",
    "\n",
    "    (_, caps, _) = plt.errorbar(x=np.arange(1, 10, 1), \n",
    "                     y=actual_first_digit_frequencies, \n",
    "                     yerr=[(top-bot)/2 for top,bot in multinomial_proportions_confint(actual_first_digit_counts)],\n",
    "                     capsize=5, fmt='none', label=label_actual+' 95% CI')\n",
    "\n",
    "    for cap in caps:\n",
    "        cap.set_markeredgewidth(1)\n",
    "\n",
    "    # Plot expected values as scatter plot points, in order to visualize where CIs include expected values\n",
    "    plt.scatter(np.arange(1,10,1), expected_first_digit_frequencies, label=label_expected, color='red')\n",
    "    \n",
    "    # Format \n",
    "    plt.xticks([1,2,3,4,5,6,7,8,9])\n",
    "    plt.xlabel('First Digits')\n",
    "    plt.ylabel('Frequency')\n",
    "    plt.title(title)\n",
    "    plt.legend();\n",
    "    \n",
    "    return\n",
    "\n",
    "expected_frequencies = pd.Series([.301, .176, .125, .097, .079, .067, .058, .051, .046], \n",
    "                                 index = [1, 2, 3, 4, 5, 6, 7, 8, 9]\n",
    "                                )"
   ]
  },
  {
   "cell_type": "code",
   "execution_count": null,
   "metadata": {},
   "outputs": [],
   "source": []
  }
 ],
 "metadata": {
  "kernelspec": {
   "display_name": "Python 3",
   "language": "python",
   "name": "python3"
  },
  "language_info": {
   "codemirror_mode": {
    "name": "ipython",
    "version": 3
   },
   "file_extension": ".py",
   "mimetype": "text/x-python",
   "name": "python",
   "nbconvert_exporter": "python",
   "pygments_lexer": "ipython3",
   "version": "3.7.3"
  }
 },
 "nbformat": 4,
 "nbformat_minor": 2
}
